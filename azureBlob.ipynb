{
 "cells": [
  {
   "cell_type": "code",
   "execution_count": null,
   "metadata": {},
   "outputs": [],
   "source": [
    "from azure.storage.blob import BlobServiceClient\n",
    "from io import BytesIO\n",
    "from PIL import Image\n",
    "\n",
    "# Azure Storage Configuration\n",
    "connection_string = \"your_connection_string\"  # Replace with your Azure Storage connection string\n",
    "container_name = \"your_container_name\"       # Replace with your container name\n",
    "blob_name = \"your_image_name.jpg\"            # Replace with your image name in the container\n",
    "\n",
    "# Initialize the BlobServiceClient\n",
    "blob_service_client = BlobServiceClient.from_connection_string(connection_string)\n",
    "\n",
    "# Get a client for the specific container and blob\n",
    "blob_client = blob_service_client.get_container_client(container_name).get_blob_client(blob_name)"
   ]
  },
  {
   "cell_type": "code",
   "execution_count": null,
   "metadata": {},
   "outputs": [],
   "source": [
    "try:\n",
    "    # Download the blob (image)\n",
    "    blob_data = blob_client.download_blob()\n",
    "    image_data = blob_data.readall()  # Reads the blob content into memory\n",
    "\n",
    "    # Open the image using Pillow\n",
    "    image = Image.open(BytesIO(image_data))\n",
    "    \n",
    "    # Display the image\n",
    "    image.show()\n",
    "\n",
    "    print(\"Image downloaded and displayed successfully.\")\n",
    "\n",
    "except Exception as e:\n",
    "    print(f\"Error: {e}\")"
   ]
  }
 ],
 "metadata": {
  "language_info": {
   "name": "python"
  }
 },
 "nbformat": 4,
 "nbformat_minor": 2
}
